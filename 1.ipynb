{
 "cells": [
  {
   "cell_type": "code",
   "execution_count": 2,
   "metadata": {
    "vscode": {
     "languageId": "shellscript"
    }
   },
   "outputs": [
    {
     "name": "stdout",
     "output_type": "stream",
     "text": [
      "# atoms   vol of unit cell (Ang^3)   # modes\n",
      "  87      4903.47       261\n",
      "Mode    Freq (cm-1)\n",
      "Traceback (most recent call last):\n",
      "  File \"/Users/xzhang1/fake/GO-AIMD/0801 first-principles-thermodynamics/vasp-out/2-reactants/modes-to-vesta.py\", line 180, in <module>\n",
      "    parseModes(outcar, nat, vesta_front, vesta_end, scaling_factor)\n",
      "  File \"/Users/xzhang1/fake/GO-AIMD/0801 first-principles-thermodynamics/vasp-out/2-reactants/modes-to-vesta.py\", line 91, in parseModes\n",
      "    eigvec.append([ float(tmp[x]) for x in range(3,6) ])\n",
      "  File \"/Users/xzhang1/fake/GO-AIMD/0801 first-principles-thermodynamics/vasp-out/2-reactants/modes-to-vesta.py\", line 91, in <listcomp>\n",
      "    eigvec.append([ float(tmp[x]) for x in range(3,6) ])\n",
      "IndexError: list index out of range\n"
     ]
    },
    {
     "ename": "",
     "evalue": "1",
     "output_type": "error",
     "traceback": []
    }
   ],
   "source": [
    "python modes-to-vesta.py"
   ]
  }
 ],
 "metadata": {
  "kernelspec": {
   "display_name": "Bash",
   "language": "bash",
   "name": "bash"
  },
  "language_info": {
   "codemirror_mode": "shell",
   "file_extension": ".sh",
   "mimetype": "text/x-sh",
   "name": "bash"
  }
 },
 "nbformat": 4,
 "nbformat_minor": 2
}
